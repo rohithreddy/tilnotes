{
 "cells": [
  {
   "cell_type": "markdown",
   "metadata": {},
   "source": [
    "#PyMongo \n",
    "MongoDB - Python "
   ]
  },
  {
   "cell_type": "markdown",
   "metadata": {},
   "source": [
    "Connecting to a MongoDB and displaying a record"
   ]
  },
  {
   "cell_type": "code",
   "execution_count": 2,
   "metadata": {
    "collapsed": true
   },
   "outputs": [],
   "source": [
    "import pymongo\n",
    "from pymongo import MongoClient\n",
    "# connect to database \n",
    "connection = MongoClient('localhost',27017)\n"
   ]
  },
  {
   "cell_type": "code",
   "execution_count": 3,
   "metadata": {
    "collapsed": true
   },
   "outputs": [],
   "source": [
    "db = connection.school\n",
    "scores = db.scores"
   ]
  },
  {
   "cell_type": "code",
   "execution_count": 4,
   "metadata": {
    "collapsed": false
   },
   "outputs": [],
   "source": [
    "doc = scores.find_one({'student_id':10})"
   ]
  },
  {
   "cell_type": "markdown",
   "metadata": {},
   "source": [
    "scores.find_one() returns a single document instead of returning a cursor"
   ]
  },
  {
   "cell_type": "code",
   "execution_count": 5,
   "metadata": {
    "collapsed": false
   },
   "outputs": [
    {
     "name": "stdout",
     "output_type": "stream",
     "text": [
      "{u'student_id': 10.0, u'_id': ObjectId('5727a9d72eb6d8e6f58313c9'), u'type': u'exam', u'score': 72.09653556346893}\n"
     ]
    }
   ],
   "source": [
    "print doc"
   ]
  },
  {
   "cell_type": "code",
   "execution_count": 6,
   "metadata": {
    "collapsed": true
   },
   "outputs": [],
   "source": [
    "def find():\n",
    "    query = {'type':'exam'}\n",
    "    cursor =  scores.find(query)\n",
    "    sanity = 0\n",
    "    for doc in cursor:\n",
    "        print doc\n",
    "        sanity += 1\n",
    "        if (sanity > 10):\n",
    "            break"
   ]
  },
  {
   "cell_type": "code",
   "execution_count": 7,
   "metadata": {
    "collapsed": false,
    "scrolled": false
   },
   "outputs": [
    {
     "name": "stdout",
     "output_type": "stream",
     "text": [
      "{u'student_id': 0.0, u'_id': ObjectId('5727a9d62eb6d8e6f58313ab'), u'type': u'exam', u'score': 78.68550645653158}\n",
      "{u'student_id': 1.0, u'_id': ObjectId('5727a9d72eb6d8e6f58313ae'), u'type': u'exam', u'score': 72.95094726141542}\n",
      "{u'student_id': 2.0, u'_id': ObjectId('5727a9d72eb6d8e6f58313b1'), u'type': u'exam', u'score': 83.1319295335561}\n",
      "{u'student_id': 3.0, u'_id': ObjectId('5727a9d72eb6d8e6f58313b4'), u'type': u'exam', u'score': 97.84165748860687}\n",
      "{u'student_id': 4.0, u'_id': ObjectId('5727a9d72eb6d8e6f58313b7'), u'type': u'exam', u'score': 50.95486789941788}\n",
      "{u'student_id': 5.0, u'_id': ObjectId('5727a9d72eb6d8e6f58313ba'), u'type': u'exam', u'score': 33.97437110543251}\n",
      "{u'student_id': 6.0, u'_id': ObjectId('5727a9d72eb6d8e6f58313bd'), u'type': u'exam', u'score': 75.74867240618914}\n",
      "{u'student_id': 7.0, u'_id': ObjectId('5727a9d72eb6d8e6f58313c0'), u'type': u'exam', u'score': 99.72119166050106}\n",
      "{u'student_id': 8.0, u'_id': ObjectId('5727a9d72eb6d8e6f58313c3'), u'type': u'exam', u'score': 34.66769503429532}\n",
      "{u'student_id': 9.0, u'_id': ObjectId('5727a9d72eb6d8e6f58313c6'), u'type': u'exam', u'score': 18.023939291015267}\n",
      "{u'student_id': 10.0, u'_id': ObjectId('5727a9d72eb6d8e6f58313c9'), u'type': u'exam', u'score': 72.09653556346893}\n"
     ]
    }
   ],
   "source": [
    "find()"
   ]
  },
  {
   "cell_type": "markdown",
   "metadata": {
    "collapsed": false
   },
   "source": [
    "find(query,{projection})"
   ]
  },
  {
   "cell_type": "code",
   "execution_count": null,
   "metadata": {
    "collapsed": true
   },
   "outputs": [],
   "source": []
  }
 ],
 "metadata": {
  "kernelspec": {
   "display_name": "Python 2",
   "language": "python",
   "name": "python2"
  },
  "language_info": {
   "codemirror_mode": {
    "name": "ipython",
    "version": 2
   },
   "file_extension": ".py",
   "mimetype": "text/x-python",
   "name": "python",
   "nbconvert_exporter": "python",
   "pygments_lexer": "ipython2",
   "version": "2.7.11"
  }
 },
 "nbformat": 4,
 "nbformat_minor": 0
}
